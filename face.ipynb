{
  "cells": [
    {
      "cell_type": "markdown",
      "metadata": {
        "id": "view-in-github",
        "colab_type": "text"
      },
      "source": [
        "<a href=\"https://colab.research.google.com/github/Amans-sky/22MID0250/blob/main/face.ipynb\" target=\"_parent\"><img src=\"https://colab.research.google.com/assets/colab-badge.svg\" alt=\"Open In Colab\"/></a>"
      ]
    },
    {
      "cell_type": "markdown",
      "metadata": {
        "id": "nCKfH_kD2Au1"
      },
      "source": [
        "## Step 1: Install OpenCV\n",
        "In this step, we install the required libraries for OpenCV to work on Google Colab."
      ]
    },
    {
      "cell_type": "code",
      "execution_count": 1,
      "metadata": {
        "colab": {
          "base_uri": "https://localhost:8080/"
        },
        "id": "dEX4epm8syXL",
        "outputId": "021a5069-6652-4781-a6a5-c17fae80cf43"
      },
      "outputs": [
        {
          "output_type": "stream",
          "name": "stdout",
          "text": [
            "Requirement already satisfied: opencv-python in /usr/local/lib/python3.10/dist-packages (4.10.0.84)\n",
            "Requirement already satisfied: numpy>=1.21.2 in /usr/local/lib/python3.10/dist-packages (from opencv-python) (1.26.4)\n",
            "Requirement already satisfied: opencv-python-headless in /usr/local/lib/python3.10/dist-packages (4.10.0.84)\n",
            "Requirement already satisfied: numpy>=1.21.2 in /usr/local/lib/python3.10/dist-packages (from opencv-python-headless) (1.26.4)\n",
            "Requirement already satisfied: opencv-contrib-python in /usr/local/lib/python3.10/dist-packages (4.10.0.84)\n",
            "Requirement already satisfied: numpy>=1.21.2 in /usr/local/lib/python3.10/dist-packages (from opencv-contrib-python) (1.26.4)\n"
          ]
        }
      ],
      "source": [
        "# Install OpenCV to work with images\n",
        "!pip install opencv-python\n",
        "!pip install opencv-python-headless  # Headless version of OpenCV (no GUI, necessary for Colab)\n",
        "!pip install opencv-contrib-python\n"
      ]
    },
    {
      "cell_type": "code",
      "source": [
        "from google.colab import files\n",
        "upload=files.upload()"
      ],
      "metadata": {
        "colab": {
          "base_uri": "https://localhost:8080/",
          "height": 73
        },
        "id": "UvFXh5NYLPRi",
        "outputId": "1b53f5dc-dedc-4ec3-8750-547700545568"
      },
      "execution_count": 4,
      "outputs": [
        {
          "output_type": "display_data",
          "data": {
            "text/plain": [
              "<IPython.core.display.HTML object>"
            ],
            "text/html": [
              "\n",
              "     <input type=\"file\" id=\"files-f7a020c9-3f71-45a6-a74a-27e87b831661\" name=\"files[]\" multiple disabled\n",
              "        style=\"border:none\" />\n",
              "     <output id=\"result-f7a020c9-3f71-45a6-a74a-27e87b831661\">\n",
              "      Upload widget is only available when the cell has been executed in the\n",
              "      current browser session. Please rerun this cell to enable.\n",
              "      </output>\n",
              "      <script>// Copyright 2017 Google LLC\n",
              "//\n",
              "// Licensed under the Apache License, Version 2.0 (the \"License\");\n",
              "// you may not use this file except in compliance with the License.\n",
              "// You may obtain a copy of the License at\n",
              "//\n",
              "//      http://www.apache.org/licenses/LICENSE-2.0\n",
              "//\n",
              "// Unless required by applicable law or agreed to in writing, software\n",
              "// distributed under the License is distributed on an \"AS IS\" BASIS,\n",
              "// WITHOUT WARRANTIES OR CONDITIONS OF ANY KIND, either express or implied.\n",
              "// See the License for the specific language governing permissions and\n",
              "// limitations under the License.\n",
              "\n",
              "/**\n",
              " * @fileoverview Helpers for google.colab Python module.\n",
              " */\n",
              "(function(scope) {\n",
              "function span(text, styleAttributes = {}) {\n",
              "  const element = document.createElement('span');\n",
              "  element.textContent = text;\n",
              "  for (const key of Object.keys(styleAttributes)) {\n",
              "    element.style[key] = styleAttributes[key];\n",
              "  }\n",
              "  return element;\n",
              "}\n",
              "\n",
              "// Max number of bytes which will be uploaded at a time.\n",
              "const MAX_PAYLOAD_SIZE = 100 * 1024;\n",
              "\n",
              "function _uploadFiles(inputId, outputId) {\n",
              "  const steps = uploadFilesStep(inputId, outputId);\n",
              "  const outputElement = document.getElementById(outputId);\n",
              "  // Cache steps on the outputElement to make it available for the next call\n",
              "  // to uploadFilesContinue from Python.\n",
              "  outputElement.steps = steps;\n",
              "\n",
              "  return _uploadFilesContinue(outputId);\n",
              "}\n",
              "\n",
              "// This is roughly an async generator (not supported in the browser yet),\n",
              "// where there are multiple asynchronous steps and the Python side is going\n",
              "// to poll for completion of each step.\n",
              "// This uses a Promise to block the python side on completion of each step,\n",
              "// then passes the result of the previous step as the input to the next step.\n",
              "function _uploadFilesContinue(outputId) {\n",
              "  const outputElement = document.getElementById(outputId);\n",
              "  const steps = outputElement.steps;\n",
              "\n",
              "  const next = steps.next(outputElement.lastPromiseValue);\n",
              "  return Promise.resolve(next.value.promise).then((value) => {\n",
              "    // Cache the last promise value to make it available to the next\n",
              "    // step of the generator.\n",
              "    outputElement.lastPromiseValue = value;\n",
              "    return next.value.response;\n",
              "  });\n",
              "}\n",
              "\n",
              "/**\n",
              " * Generator function which is called between each async step of the upload\n",
              " * process.\n",
              " * @param {string} inputId Element ID of the input file picker element.\n",
              " * @param {string} outputId Element ID of the output display.\n",
              " * @return {!Iterable<!Object>} Iterable of next steps.\n",
              " */\n",
              "function* uploadFilesStep(inputId, outputId) {\n",
              "  const inputElement = document.getElementById(inputId);\n",
              "  inputElement.disabled = false;\n",
              "\n",
              "  const outputElement = document.getElementById(outputId);\n",
              "  outputElement.innerHTML = '';\n",
              "\n",
              "  const pickedPromise = new Promise((resolve) => {\n",
              "    inputElement.addEventListener('change', (e) => {\n",
              "      resolve(e.target.files);\n",
              "    });\n",
              "  });\n",
              "\n",
              "  const cancel = document.createElement('button');\n",
              "  inputElement.parentElement.appendChild(cancel);\n",
              "  cancel.textContent = 'Cancel upload';\n",
              "  const cancelPromise = new Promise((resolve) => {\n",
              "    cancel.onclick = () => {\n",
              "      resolve(null);\n",
              "    };\n",
              "  });\n",
              "\n",
              "  // Wait for the user to pick the files.\n",
              "  const files = yield {\n",
              "    promise: Promise.race([pickedPromise, cancelPromise]),\n",
              "    response: {\n",
              "      action: 'starting',\n",
              "    }\n",
              "  };\n",
              "\n",
              "  cancel.remove();\n",
              "\n",
              "  // Disable the input element since further picks are not allowed.\n",
              "  inputElement.disabled = true;\n",
              "\n",
              "  if (!files) {\n",
              "    return {\n",
              "      response: {\n",
              "        action: 'complete',\n",
              "      }\n",
              "    };\n",
              "  }\n",
              "\n",
              "  for (const file of files) {\n",
              "    const li = document.createElement('li');\n",
              "    li.append(span(file.name, {fontWeight: 'bold'}));\n",
              "    li.append(span(\n",
              "        `(${file.type || 'n/a'}) - ${file.size} bytes, ` +\n",
              "        `last modified: ${\n",
              "            file.lastModifiedDate ? file.lastModifiedDate.toLocaleDateString() :\n",
              "                                    'n/a'} - `));\n",
              "    const percent = span('0% done');\n",
              "    li.appendChild(percent);\n",
              "\n",
              "    outputElement.appendChild(li);\n",
              "\n",
              "    const fileDataPromise = new Promise((resolve) => {\n",
              "      const reader = new FileReader();\n",
              "      reader.onload = (e) => {\n",
              "        resolve(e.target.result);\n",
              "      };\n",
              "      reader.readAsArrayBuffer(file);\n",
              "    });\n",
              "    // Wait for the data to be ready.\n",
              "    let fileData = yield {\n",
              "      promise: fileDataPromise,\n",
              "      response: {\n",
              "        action: 'continue',\n",
              "      }\n",
              "    };\n",
              "\n",
              "    // Use a chunked sending to avoid message size limits. See b/62115660.\n",
              "    let position = 0;\n",
              "    do {\n",
              "      const length = Math.min(fileData.byteLength - position, MAX_PAYLOAD_SIZE);\n",
              "      const chunk = new Uint8Array(fileData, position, length);\n",
              "      position += length;\n",
              "\n",
              "      const base64 = btoa(String.fromCharCode.apply(null, chunk));\n",
              "      yield {\n",
              "        response: {\n",
              "          action: 'append',\n",
              "          file: file.name,\n",
              "          data: base64,\n",
              "        },\n",
              "      };\n",
              "\n",
              "      let percentDone = fileData.byteLength === 0 ?\n",
              "          100 :\n",
              "          Math.round((position / fileData.byteLength) * 100);\n",
              "      percent.textContent = `${percentDone}% done`;\n",
              "\n",
              "    } while (position < fileData.byteLength);\n",
              "  }\n",
              "\n",
              "  // All done.\n",
              "  yield {\n",
              "    response: {\n",
              "      action: 'complete',\n",
              "    }\n",
              "  };\n",
              "}\n",
              "\n",
              "scope.google = scope.google || {};\n",
              "scope.google.colab = scope.google.colab || {};\n",
              "scope.google.colab._files = {\n",
              "  _uploadFiles,\n",
              "  _uploadFilesContinue,\n",
              "};\n",
              "})(self);\n",
              "</script> "
            ]
          },
          "metadata": {}
        },
        {
          "output_type": "stream",
          "name": "stdout",
          "text": [
            "Saving dataset.zip to dataset.zip\n"
          ]
        }
      ]
    },
    {
      "cell_type": "markdown",
      "metadata": {
        "id": "A4vfR_MT2v9_"
      },
      "source": [
        "## Step 2: Unzip the Dataset\n",
        "Once the dataset is uploaded, we will unzip it into a directory for further use."
      ]
    },
    {
      "cell_type": "code",
      "execution_count": 5,
      "metadata": {
        "id": "f2aTwRSIvdXZ"
      },
      "outputs": [],
      "source": [
        "# Step 3: Unzip the Dataset\n",
        "import zipfile\n",
        "import os\n",
        "\n",
        "zip_file_path = 'dataset.zip'  # Replace with the actual zip file name\n",
        "\n",
        "with zipfile.ZipFile(zip_file_path, 'r') as zip_ref:\n",
        "    zip_ref.extractall('dataset')  # Extracts to a folder named 'dataset'\n"
      ]
    },
    {
      "cell_type": "markdown",
      "metadata": {
        "id": "t5f2Sp9Y27Z_"
      },
      "source": [
        "## Step 3: Import Required Libraries\n",
        "We import the necessary libraries to work with OpenCV and handle arrays."
      ]
    },
    {
      "cell_type": "code",
      "execution_count": 8,
      "metadata": {
        "id": "aO79o0fys-Ff"
      },
      "outputs": [],
      "source": [
        "# Import OpenCV for image processing\n",
        "import cv2\n",
        "\n",
        "# Import NumPy to handle arrays and matrices\n",
        "import numpy as np\n"
      ]
    },
    {
      "cell_type": "markdown",
      "metadata": {
        "id": "TCcijNto3Bzj"
      },
      "source": [
        "## Step 4: Load and Preprocess Images\n",
        "We load images from the unzipped dataset folder and associate them with labels based on folder names."
      ]
    },
    {
      "cell_type": "code",
      "execution_count": 7,
      "metadata": {
        "id": "LcR_7FYa1OhE"
      },
      "outputs": [],
      "source": [
        "# Function to load images from a folder and map them to labels\n",
        "def load_images_from_folder(folder):\n",
        "    images = []  # List to store the images\n",
        "    labels = []  # List to store corresponding labels\n",
        "    label_map = {}  # Dictionary to map label numbers to person names\n",
        "\n",
        "    # Loop through each subfolder (each person's folder) in the dataset\n",
        "    for label, person_name in enumerate(os.listdir(folder)):\n",
        "        person_folder = os.path.join(folder, person_name)  # Path to the person's folder\n",
        "        label_map[label] = person_name  # Map label number to person's name\n",
        "\n",
        "        # Loop through each image file in the person's folder\n",
        "        for img_name in os.listdir(person_folder):\n",
        "            img_path = os.path.join(person_folder, img_name)  # Full path to the image\n",
        "            img = cv2.imread(img_path, cv2.IMREAD_GRAYSCALE)  # Load the image in grayscale\n",
        "\n",
        "            # If image is successfully loaded, add it to the list\n",
        "            if img is not None:\n",
        "                images.append(img)  # Add the image to the images list\n",
        "                labels.append(label)  # Add the corresponding label\n",
        "\n",
        "    return images, labels, label_map  # Return the images, labels, and label map\n",
        "\n",
        "# Load the training images and their corresponding labels from the 'train_data' folder\n",
        "train_images, train_labels, label_map = load_images_from_folder('dataset/dataset/train_data')\n"
      ]
    },
    {
      "cell_type": "markdown",
      "metadata": {
        "id": "T7Pdxp4v3W4t"
      },
      "source": [
        "## Step 5: Train the Face Recognition Model\n",
        "We will use the LBPH (Local Binary Patterns Histograms) face recognizer to train the model."
      ]
    },
    {
      "cell_type": "code",
      "execution_count": 9,
      "metadata": {
        "id": "urkw3a7d1W2Z"
      },
      "outputs": [],
      "source": [
        "model = cv2.face_LBPHFaceRecognizer.create()\n",
        "\n",
        "# Train the model on the training images and labels\n",
        "model.train(train_images, np.array(train_labels))\n"
      ]
    },
    {
      "cell_type": "markdown",
      "metadata": {
        "id": "W77GgfLa3Z9O"
      },
      "source": [
        "## Step 6: Testing the Model\n",
        "Finally, we test the trained model on images from the test dataset."
      ]
    },
    {
      "cell_type": "code",
      "execution_count": 10,
      "metadata": {
        "colab": {
          "base_uri": "https://localhost:8080/"
        },
        "id": "8KGNUh4H1bq4",
        "outputId": "de4e12e5-5509-4328-8171-acd64f49f5c8"
      },
      "outputs": [
        {
          "output_type": "stream",
          "name": "stdout",
          "text": [
            "Image: 37.png is recognized as: Tanisha with confidence: 0.0\n",
            "Image: 10.png is recognized as: Sahil with confidence: 0.0\n",
            "Image: 1.png is recognized as: Mayank with confidence: 0.0\n"
          ]
        }
      ],
      "source": [
        "# Function to test the face recognition model with images from a test folder\n",
        "def test_model(model, test_folder):\n",
        "    # Loop through each image in the test folder\n",
        "    for img_name in os.listdir(test_folder):\n",
        "        img_path = os.path.join(test_folder, img_name)  # Full path to the test image\n",
        "        img = cv2.imread(img_path, cv2.IMREAD_GRAYSCALE)  # Load the image in grayscale\n",
        "\n",
        "        # If image is successfully loaded, predict the label\n",
        "        if img is not None:\n",
        "            label, confidence = model.predict(img)  # Predict the person's label and get confidence score\n",
        "            print(f\"Image: {img_name} is recognized as: {label_map[label]} with confidence: {confidence}\")\n",
        "\n",
        "# Test the model with images from the 'test_data' folder\n",
        "test_model(model, 'dataset/dataset/test_data')\n"
      ]
    }
  ],
  "metadata": {
    "accelerator": "GPU",
    "colab": {
      "gpuType": "T4",
      "provenance": [],
      "include_colab_link": true
    },
    "kernelspec": {
      "display_name": "Python 3",
      "name": "python3"
    },
    "language_info": {
      "codemirror_mode": {
        "name": "ipython",
        "version": 3
      },
      "file_extension": ".py",
      "mimetype": "text/x-python",
      "name": "python",
      "nbconvert_exporter": "python",
      "pygments_lexer": "ipython3",
      "version": "3.10.9"
    }
  },
  "nbformat": 4,
  "nbformat_minor": 0
}